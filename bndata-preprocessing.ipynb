{
 "cells": [
  {
   "cell_type": "code",
   "execution_count": 14,
   "metadata": {
    "execution": {
     "iopub.execute_input": "2025-03-26T14:16:14.200194Z",
     "iopub.status.busy": "2025-03-26T14:16:14.199485Z",
     "iopub.status.idle": "2025-03-26T14:16:14.206539Z",
     "shell.execute_reply": "2025-03-26T14:16:14.205087Z",
     "shell.execute_reply.started": "2025-03-26T14:16:14.200149Z"
    },
    "trusted": true
   },
   "outputs": [],
   "source": [
    "from pathlib import Path\n",
    "import torch\n",
    "import torch.nn as nn\n",
    "import torch.optim as optim\n",
    "import pandas as pd\n",
    "import numpy as np\n",
    "from torch.utils.data import Dataset, DataLoader\n",
    "# from sklearn.preprocessing import MinMaxScaler\n",
    "import pytorch_lightning as pl\n",
    "from tqdm import tqdm\n",
    "from sklearn.preprocessing import StandardScaler"
   ]
  },
  {
   "cell_type": "code",
   "execution_count": null,
   "metadata": {
    "execution": {
     "iopub.execute_input": "2025-03-26T14:16:26.698239Z",
     "iopub.status.busy": "2025-03-26T14:16:26.697725Z",
     "iopub.status.idle": "2025-03-26T14:16:26.704767Z",
     "shell.execute_reply": "2025-03-26T14:16:26.703314Z",
     "shell.execute_reply.started": "2025-03-26T14:16:26.698205Z"
    },
    "trusted": true
   },
   "outputs": [],
   "source": [
    "SYMBOLS = {\n",
    "    i: idx\n",
    "    for idx, i in enumerate(\n",
    "        [\n",
    "            \"BTCUSDT\",\n",
    "            \"ETHUSDT\",\n",
    "            \"SOLUSDT\",\n",
    "            \"BNBUSDT\",\n",
    "            \"XRPUSDT\",\n",
    "            \"WIFUSDT\",\n",
    "            \"DOGEUSDT\",\n",
    "            \"PEPEUSDT\",\n",
    "            \"SPELLUSDT\",\n",
    "            \"SUIUSDT\",\n",
    "            \"ADAUSDT\",\n",
    "            \"RVNUSDT\",\n",
    "            \"JUVUSDT\",\n",
    "            \"OMUSDT\",\n",
    "            \"LTCUSDT\",\n",
    "            \"CREAMUSDT\",\n",
    "            \"ACMUSDT\",\n",
    "            \"CITYUSDT\",\n",
    "            \"TSTUSDT\",\n",
    "            \"ATMUSDT\",\n",
    "            \"USUALUSDT\",\n",
    "            \"DATAUSDT\",\n",
    "            \"PORTOUSDT\",\n",
    "            \"BARUSDT\",\n",
    "            \"TRXUSDT\",\n",
    "            \"XLMUSDT\",\n",
    "            \"LINKUSDT\",\n",
    "            \"JUPUSDT\",\n",
    "            \"BNXUSDT\",\n",
    "            \"PNUTUSDT\",\n",
    "            \"CAKEUSDT\",\n",
    "            \"SHIBUSDT\",\n",
    "            \"WBTCUSDT\",\n",
    "            \"AVAXUSDT\",\n",
    "            \"HBARUSDT\",\n",
    "            \"TONUSDT\",\n",
    "            \"DOTUSDT\",\n",
    "        ]\n",
    "    )\n",
    "}"
   ]
  },
  {
   "cell_type": "code",
   "execution_count": null,
   "metadata": {
    "execution": {
     "iopub.execute_input": "2025-03-26T14:16:26.909468Z",
     "iopub.status.busy": "2025-03-26T14:16:26.909007Z",
     "iopub.status.idle": "2025-03-26T14:16:34.169603Z",
     "shell.execute_reply": "2025-03-26T14:16:34.168210Z",
     "shell.execute_reply.started": "2025-03-26T14:16:26.909426Z"
    },
    "trusted": true
   },
   "outputs": [],
   "source": [
    "data_root = Path(\"dataset/bn_spider/csv/\")\n",
    "data_path = data_root / \"BNBUSDT_60.csv\"\n",
    "seq_path = data_root / \"seq_60.csv\"\n",
    "# data_df = pd.read_csv(data_path)\n",
    "# seq_df = pd.read_csv(seq_path)"
   ]
  },
  {
   "cell_type": "code",
   "execution_count": null,
   "metadata": {
    "execution": {
     "iopub.execute_input": "2025-03-26T14:16:34.171753Z",
     "iopub.status.busy": "2025-03-26T14:16:34.171404Z",
     "iopub.status.idle": "2025-03-26T14:16:34.188093Z",
     "shell.execute_reply": "2025-03-26T14:16:34.186514Z",
     "shell.execute_reply.started": "2025-03-26T14:16:34.171715Z"
    },
    "trusted": true
   },
   "outputs": [],
   "source": [
    "# seq = seq_df[seq_df[\"stock_name\"]==\"BNBUSDT\"]\n",
    "# seq"
   ]
  },
  {
   "cell_type": "code",
   "execution_count": null,
   "metadata": {
    "execution": {
     "iopub.execute_input": "2025-03-26T14:24:27.761986Z",
     "iopub.status.busy": "2025-03-26T14:24:27.761581Z",
     "iopub.status.idle": "2025-03-26T14:24:27.770817Z",
     "shell.execute_reply": "2025-03-26T14:24:27.769328Z",
     "shell.execute_reply.started": "2025-03-26T14:24:27.761958Z"
    },
    "trusted": true
   },
   "outputs": [],
   "source": [
    "# 读取和预处理 CSV 数据\n",
    "def load_and_preprocess_data(file_path, interval):\n",
    "    # 读取 CSV 文件\n",
    "    data = pd.read_csv(file_path).dropna()\n",
    "\n",
    "    # 处理缺失值\n",
    "    data.fillna(value=0, inplace=True)  # 使用前向填充方法处理缺失值\n",
    "\n",
    "    # # 将 datetime 列转换为时间戳\n",
    "    # data[\"timestamp\"] = (\n",
    "    #     pd.to_datetime(data[\"datetime\"]).astype(\"int64\") // 10**9\n",
    "    # )  # 转换为秒级时间戳\n",
    "\n",
    "    # # 排序 timestamp\n",
    "    # data = data.sort_values(by=\"timestamp\", ascending=True)\n",
    "\n",
    "    # # make index\n",
    "    # # interval = 14400\n",
    "    # data[\"timestamp_diff\"] = data[\"timestamp\"].diff().fillna(0).astype(\"int64\")\n",
    "\n",
    "    # use csv in bn_spider\n",
    "    interval *= 1000\n",
    "    data = data.sort_values(by=\"open_time\", ascending=True)\n",
    "    data[\"timestamp_diff\"] = data[\"open_time\"].diff().fillna(0).astype(\"int64\")\n",
    "\n",
    "    # seq = pd.DataFrame(columns=[\"start\", \"end\", \"length\"])\n",
    "    # start = 0\n",
    "    # seq_list = []\n",
    "    # idx = 0\n",
    "    # row = None\n",
    "    # for idx, row in tqdm(data.iterrows(), total=len(data)):\n",
    "    #     if row.timestamp_diff != interval:\n",
    "    #         if idx == 0:\n",
    "    #             continue\n",
    "    #         seq_list.append([start, idx, idx - start])\n",
    "    #         start = idx\n",
    "    # if idx > 0:\n",
    "    #     idx += 1\n",
    "    #     seq_list.append([start, idx, idx - start])\n",
    "    # seq = pd.DataFrame(seq_list, columns=[\"start\", \"end\", \"length\"])\n",
    "\n",
    "    # 使用 shift 和 cumsum 来划分序列\n",
    "    data[\"is_new_seq\"] = (data[\"timestamp_diff\"] != interval).astype(int)\n",
    "    data[\"seq_id\"] = data[\"is_new_seq\"].cumsum()\n",
    "\n",
    "    # 计算每个序列的 start, end, length\n",
    "    seq = (\n",
    "        data.groupby(\"seq_id\")\n",
    "        .agg(\n",
    "            start=(\"open_time\", \"idxmin\"),\n",
    "            end=(\"open_time\", \"idxmax\"),\n",
    "            length=(\"open_time\", \"size\"),\n",
    "        )\n",
    "        .reset_index(drop=True)\n",
    "    )\n",
    "    seq[\"end\"] += 1\n",
    "\n",
    "    # gen_seq = generate_fixed_length_sequences(seq, 5)\n",
    "\n",
    "    # # 提取特征\n",
    "    # features = data[[\"open\", \"high\", \"low\", \"close\", \"volume\"]].values\n",
    "\n",
    "    # # 归一化处理\n",
    "    # scaler = MinMaxScaler()\n",
    "    # features_scaled = scaler.fit_transform(features)\n",
    "\n",
    "    # return data[[\"open\", \"high\", \"low\", \"close\", \"volume\"]].values, seq\n",
    "\n",
    "    return (\n",
    "        data[\n",
    "            [\n",
    "                # \"stock_name\",\n",
    "                # # \"open_time\",\n",
    "                # \"interval\",\n",
    "                # \"open_price\",\n",
    "                # \"high_price\",\n",
    "                \"low_price\",\n",
    "                \"close_price\",\n",
    "                \"volume\",\n",
    "                # \"close_time\",\n",
    "                # \"quote_asset_volume\",\n",
    "                # \"number_of_trades\",\n",
    "                # \"taker_buy_base_asset_volume\",\n",
    "                # \"taker_buy_quote_asset_volume\",\n",
    "            ]\n",
    "        ].values,\n",
    "        seq,\n",
    "    )\n"
   ]
  },
  {
   "cell_type": "code",
   "execution_count": null,
   "metadata": {
    "execution": {
     "iopub.execute_input": "2025-03-26T14:50:26.075181Z",
     "iopub.status.busy": "2025-03-26T14:50:26.074777Z",
     "iopub.status.idle": "2025-03-26T14:50:26.082700Z",
     "shell.execute_reply": "2025-03-26T14:50:26.081011Z",
     "shell.execute_reply.started": "2025-03-26T14:50:26.075145Z"
    },
    "trusted": true
   },
   "outputs": [],
   "source": [
    "def generate_fixed_length_sequences(df, fixed_length):\n",
    "    \"\"\"\n",
    "    将每个连续区间分割为固定长度的子序列，返回无交叉的区间列表\n",
    "\n",
    "    参数:\n",
    "    df (DataFrame): 包含列['start', 'end', 'length']的连续性统计表\n",
    "    fixed_length (int): 需要生成的固定子序列长度\n",
    "\n",
    "    返回:\n",
    "    List[Tuple]: 生成的子序列区间列表，格式为 [(start1, end1), (start2, end2), ...]\n",
    "    \"\"\"\n",
    "    result = []\n",
    "\n",
    "    for _, row in df.iterrows():\n",
    "        s = row[\"start\"]\n",
    "        e = row[\"end\"]\n",
    "        length = row[\"length\"]\n",
    "        \n",
    "\n",
    "        # 跳过长度不足的区间\n",
    "        if length < fixed_length:\n",
    "            continue\n",
    "\n",
    "        # 完全匹配的情况\n",
    "        if length == fixed_length:\n",
    "            result.append((s, e))\n",
    "            continue\n",
    "\n",
    "        # form offset\n",
    "        if length // fixed_length == 1:\n",
    "            offset = np.random.randint(0, length % fixed_length + 1)\n",
    "        else:\n",
    "            offset = np.random.randint(0, fixed_length)\n",
    "\n",
    "        # 生成每个子序列的起始和结束位置\n",
    "        s += offset\n",
    "        e = s + fixed_length\n",
    "        while e <= length+row[\"start\"]:\n",
    "            result.append((s, e))\n",
    "            s = e\n",
    "            e += fixed_length\n",
    "\n",
    "    return result\n"
   ]
  },
  {
   "cell_type": "code",
   "execution_count": null,
   "metadata": {
    "execution": {
     "iopub.execute_input": "2025-03-26T14:50:26.755212Z",
     "iopub.status.busy": "2025-03-26T14:50:26.754673Z",
     "iopub.status.idle": "2025-03-26T14:50:26.764122Z",
     "shell.execute_reply": "2025-03-26T14:50:26.762452Z",
     "shell.execute_reply.started": "2025-03-26T14:50:26.755175Z"
    },
    "trusted": true
   },
   "outputs": [],
   "source": [
    "# 创建自定义数据集类\n",
    "class SeqDataset(Dataset):\n",
    "    def __init__(self, data, seq, sequence_length, predict_length):\n",
    "        self.data = data\n",
    "        self.seq = seq\n",
    "        self.seqList_x = None\n",
    "        self.seqList_y = None\n",
    "        # symbol_mapper = np.vectorize(lambda s: SYMBOLS[s])\n",
    "        # self.data[:, 0] = symbol_mapper(self.data[:, 0])\n",
    "        self.data = self.data.astype(np.float64)\n",
    "        self.scaler = None\n",
    "        # self.scaler = MinMaxScaler(feature_range=(0, 1))\n",
    "        # self.data = self.scaler.fit_transform(self.data)\n",
    "        self.sequence_length = sequence_length\n",
    "        self.predict_length = predict_length\n",
    "\n",
    "        self.scaler = StandardScaler()\n",
    "        # self.scaler.fit(self.seqList_x)\n",
    "        self.scaler.fit(self.data)\n",
    "        self.data = self.scaler.transform(self.data)\n",
    "        self.__shuffle__()\n",
    "\n",
    "    def __shuffle__(self):\n",
    "        seqs = generate_fixed_length_sequences(\n",
    "            self.seq, self.sequence_length + self.predict_length\n",
    "        )\n",
    "        self.seqList_x = []\n",
    "        self.seqList_y = []\n",
    "    \n",
    "        for seq in seqs:\n",
    "            data = self.data[seq[0] : seq[1]]\n",
    "\n",
    "            x = data[0 : self.sequence_length]\n",
    "            y = data[self.sequence_length :]\n",
    "            self.seqList_x.append(x)\n",
    "            self.seqList_y.append(y)\n",
    "        self.seqList_x = torch.tensor(self.seqList_x, dtype=torch.float32)\n",
    "        # self.seqList_y = torch.tensor(self.seqList_y, dtype=torch.float32)\n",
    "        # if self.scaler is None:\n",
    "        #     self.scaler = StandardScaler()\n",
    "        #     # self.scaler.fit(self.seqList_x)\n",
    "        #     self.scaler.fit(self.data)\n",
    "        # self.seqList_x = self.scaler.transform(self.seqList_x)\n",
    "        # self.seqList_y = self.scaler.transform(self.seqList_y)\n",
    "        \n",
    "    def inverse_transform(self, data):\n",
    "        return self.scaler.inverse_transform(data)\n",
    "\n",
    "    def reshuflle(self):\n",
    "        self.__shuffle__()\n",
    "\n",
    "    def __len__(self):\n",
    "        return len(self.seqList_x)\n",
    "\n",
    "    def __getitem__(self, idx):\n",
    "        x = self.seqList_x[idx]\n",
    "        y = self.seqList_y[idx]\n",
    "        return torch.tensor(x, dtype=torch.float32), torch.tensor(\n",
    "            y, dtype=torch.float32\n",
    "        )"
   ]
  },
  {
   "cell_type": "code",
   "execution_count": null,
   "metadata": {
    "execution": {
     "iopub.execute_input": "2025-03-26T14:50:27.480259Z",
     "iopub.status.busy": "2025-03-26T14:50:27.479800Z",
     "iopub.status.idle": "2025-03-26T14:50:36.354118Z",
     "shell.execute_reply": "2025-03-26T14:50:36.352529Z",
     "shell.execute_reply.started": "2025-03-26T14:50:27.480226Z"
    },
    "trusted": true
   },
   "outputs": [
    {
     "name": "stderr",
     "output_type": "stream",
     "text": [
      "/tmp/ipykernel_166258/723976692.py:37: UserWarning: Creating a tensor from a list of numpy.ndarrays is extremely slow. Please consider converting the list to a single numpy.ndarray with numpy.array() before converting to a tensor. (Triggered internally at /opt/conda/conda-bld/pytorch_1729647382455/work/torch/csrc/utils/tensor_new.cpp:278.)\n",
      "  self.seqList_x = torch.tensor(self.seqList_x, dtype=torch.float32)\n"
     ]
    },
    {
     "data": {
      "text/plain": [
       "312"
      ]
     },
     "execution_count": 8,
     "metadata": {},
     "output_type": "execute_result"
    }
   ],
   "source": [
    "seq_steps=60*24*7\n",
    "predict_steps=60*24\n",
    "data, seq = load_and_preprocess_data(data_path, 60)\n",
    "dataset = SeqDataset(data, seq,seq_steps,predict_steps)\n",
    "len(dataset)"
   ]
  },
  {
   "cell_type": "code",
   "execution_count": null,
   "metadata": {
    "execution": {
     "iopub.execute_input": "2025-03-26T14:51:01.208944Z",
     "iopub.status.busy": "2025-03-26T14:51:01.208510Z",
     "iopub.status.idle": "2025-03-26T14:51:01.217543Z",
     "shell.execute_reply": "2025-03-26T14:51:01.216434Z",
     "shell.execute_reply.started": "2025-03-26T14:51:01.208905Z"
    },
    "trusted": true
   },
   "outputs": [
    {
     "name": "stderr",
     "output_type": "stream",
     "text": [
      "/tmp/ipykernel_166258/723976692.py:58: UserWarning: To copy construct from a tensor, it is recommended to use sourceTensor.clone().detach() or sourceTensor.clone().detach().requires_grad_(True), rather than torch.tensor(sourceTensor).\n",
      "  return torch.tensor(x, dtype=torch.float32), torch.tensor(\n"
     ]
    },
    {
     "data": {
      "text/plain": [
       "(torch.Size([10080, 3]), torch.Size([1440, 3]))"
      ]
     },
     "execution_count": 9,
     "metadata": {},
     "output_type": "execute_result"
    }
   ],
   "source": [
    "dataset.__getitem__(0)[0].shape, dataset.__getitem__(0)[1].shape"
   ]
  },
  {
   "cell_type": "code",
   "execution_count": null,
   "metadata": {
    "execution": {
     "iopub.execute_input": "2025-03-26T14:51:02.390217Z",
     "iopub.status.busy": "2025-03-26T14:51:02.389769Z",
     "iopub.status.idle": "2025-03-26T14:51:02.397041Z",
     "shell.execute_reply": "2025-03-26T14:51:02.395548Z",
     "shell.execute_reply.started": "2025-03-26T14:51:02.390186Z"
    },
    "trusted": true
   },
   "outputs": [],
   "source": [
    "batch_size = 16\n",
    "dataloader = DataLoader(dataset, batch_size=batch_size)"
   ]
  },
  {
   "cell_type": "code",
   "execution_count": null,
   "metadata": {
    "execution": {
     "iopub.execute_input": "2025-03-26T14:51:07.025360Z",
     "iopub.status.busy": "2025-03-26T14:51:07.025006Z",
     "iopub.status.idle": "2025-03-26T14:51:07.033864Z",
     "shell.execute_reply": "2025-03-26T14:51:07.032523Z",
     "shell.execute_reply.started": "2025-03-26T14:51:07.025334Z"
    },
    "trusted": true
   },
   "outputs": [],
   "source": [
    "# 2. 定义LSTM模型\n",
    "class MultiVarLSTM(nn.Module):\n",
    "    def __init__(self, input_size=3, hidden_size=64, output_size=3, num_layers=2, seq_steps=10080, predict_steps=1440):\n",
    "        super().__init__()\n",
    "        self.lstm = nn.LSTM(\n",
    "            input_size=input_size,\n",
    "            hidden_size=hidden_size,\n",
    "            num_layers=num_layers,\n",
    "            batch_first=True,\n",
    "            dropout=0.2\n",
    "        )\n",
    "        self.seq_steps = seq_steps\n",
    "        self.predict_steps = predict_steps\n",
    "        self.fc = nn.Sequential(\n",
    "            nn.Linear(hidden_size, 32),\n",
    "            nn.ReLU(),\n",
    "            nn.Linear(32, output_size*predict_steps)  # 输出为predict_steps*3\n",
    "        )\n",
    "    \n",
    "    def forward(self, x):\n",
    "        # x shape: (batch_size, time_steps, input_size)\n",
    "        out, (h_n, c_n) = self.lstm(x)\n",
    "        # 取最后一个时间步的输出\n",
    "        out = self.fc(out[:, -1, :])\n",
    "        # 调整形状为 (batch_size, predict_steps, 3)\n",
    "        return out.view(-1, predict_steps, 3)"
   ]
  },
  {
   "cell_type": "code",
   "execution_count": null,
   "metadata": {
    "execution": {
     "iopub.execute_input": "2025-03-26T14:51:07.822562Z",
     "iopub.status.busy": "2025-03-26T14:51:07.822152Z",
     "iopub.status.idle": "2025-03-26T14:51:07.831244Z",
     "shell.execute_reply": "2025-03-26T14:51:07.829994Z",
     "shell.execute_reply.started": "2025-03-26T14:51:07.822534Z"
    },
    "trusted": true
   },
   "outputs": [],
   "source": [
    "# 初始化模型\n",
    "model = MultiVarLSTM(\n",
    "    input_size=3,\n",
    "    hidden_size=64,\n",
    "    output_size=3,\n",
    "    num_layers=2\n",
    ").cuda()\n"
   ]
  },
  {
   "cell_type": "code",
   "execution_count": null,
   "metadata": {
    "execution": {
     "iopub.execute_input": "2025-03-26T14:51:10.508153Z",
     "iopub.status.busy": "2025-03-26T14:51:10.507697Z"
    },
    "trusted": true
   },
   "outputs": [
    {
     "name": "stderr",
     "output_type": "stream",
     "text": [
      "  0%|          | 0/20 [00:00<?, ?it/s]/tmp/ipykernel_166258/723976692.py:58: UserWarning: To copy construct from a tensor, it is recommended to use sourceTensor.clone().detach() or sourceTensor.clone().detach().requires_grad_(True), rather than torch.tensor(sourceTensor).\n",
      "  return torch.tensor(x, dtype=torch.float32), torch.tensor(\n",
      "100%|██████████| 20/20 [00:01<00:00, 14.56it/s]\n"
     ]
    },
    {
     "name": "stdout",
     "output_type": "stream",
     "text": [
      "Epoch 1/100, Loss: 1.0692\n"
     ]
    },
    {
     "name": "stderr",
     "output_type": "stream",
     "text": [
      "100%|██████████| 20/20 [00:01<00:00, 18.97it/s]\n"
     ]
    },
    {
     "name": "stdout",
     "output_type": "stream",
     "text": [
      "Epoch 2/100, Loss: 1.0222\n"
     ]
    },
    {
     "name": "stderr",
     "output_type": "stream",
     "text": [
      "100%|██████████| 20/20 [00:01<00:00, 18.00it/s]\n"
     ]
    },
    {
     "name": "stdout",
     "output_type": "stream",
     "text": [
      "Epoch 3/100, Loss: 0.8774\n"
     ]
    },
    {
     "name": "stderr",
     "output_type": "stream",
     "text": [
      "100%|██████████| 20/20 [00:01<00:00, 17.94it/s]\n"
     ]
    },
    {
     "name": "stdout",
     "output_type": "stream",
     "text": [
      "Epoch 4/100, Loss: 0.6080\n"
     ]
    },
    {
     "name": "stderr",
     "output_type": "stream",
     "text": [
      "100%|██████████| 20/20 [00:01<00:00, 18.16it/s]\n"
     ]
    },
    {
     "name": "stdout",
     "output_type": "stream",
     "text": [
      "Epoch 5/100, Loss: 0.4787\n"
     ]
    },
    {
     "name": "stderr",
     "output_type": "stream",
     "text": [
      "100%|██████████| 20/20 [00:01<00:00, 17.93it/s]\n"
     ]
    },
    {
     "name": "stdout",
     "output_type": "stream",
     "text": [
      "Epoch 6/100, Loss: 0.4065\n"
     ]
    },
    {
     "name": "stderr",
     "output_type": "stream",
     "text": [
      "100%|██████████| 20/20 [00:01<00:00, 18.39it/s]\n"
     ]
    },
    {
     "name": "stdout",
     "output_type": "stream",
     "text": [
      "Epoch 7/100, Loss: 0.3362\n"
     ]
    },
    {
     "name": "stderr",
     "output_type": "stream",
     "text": [
      "100%|██████████| 20/20 [00:01<00:00, 18.36it/s]\n"
     ]
    },
    {
     "name": "stdout",
     "output_type": "stream",
     "text": [
      "Epoch 8/100, Loss: 0.2811\n"
     ]
    },
    {
     "name": "stderr",
     "output_type": "stream",
     "text": [
      "100%|██████████| 20/20 [00:01<00:00, 17.71it/s]\n"
     ]
    },
    {
     "name": "stdout",
     "output_type": "stream",
     "text": [
      "Epoch 9/100, Loss: 0.2932\n"
     ]
    },
    {
     "name": "stderr",
     "output_type": "stream",
     "text": [
      "100%|██████████| 20/20 [00:01<00:00, 18.35it/s]\n"
     ]
    },
    {
     "name": "stdout",
     "output_type": "stream",
     "text": [
      "Epoch 10/100, Loss: 0.3350\n"
     ]
    },
    {
     "name": "stderr",
     "output_type": "stream",
     "text": [
      "100%|██████████| 20/20 [00:01<00:00, 18.34it/s]\n"
     ]
    },
    {
     "name": "stdout",
     "output_type": "stream",
     "text": [
      "Epoch 11/100, Loss: 0.3155\n"
     ]
    },
    {
     "name": "stderr",
     "output_type": "stream",
     "text": [
      "100%|██████████| 20/20 [00:01<00:00, 18.38it/s]\n"
     ]
    },
    {
     "name": "stdout",
     "output_type": "stream",
     "text": [
      "Epoch 12/100, Loss: 0.3252\n"
     ]
    },
    {
     "name": "stderr",
     "output_type": "stream",
     "text": [
      "100%|██████████| 20/20 [00:01<00:00, 18.35it/s]\n"
     ]
    },
    {
     "name": "stdout",
     "output_type": "stream",
     "text": [
      "Epoch 13/100, Loss: 0.2846\n"
     ]
    },
    {
     "name": "stderr",
     "output_type": "stream",
     "text": [
      "100%|██████████| 20/20 [00:01<00:00, 18.42it/s]\n"
     ]
    },
    {
     "name": "stdout",
     "output_type": "stream",
     "text": [
      "Epoch 14/100, Loss: 0.3250\n"
     ]
    },
    {
     "name": "stderr",
     "output_type": "stream",
     "text": [
      "100%|██████████| 20/20 [00:01<00:00, 18.29it/s]\n"
     ]
    },
    {
     "name": "stdout",
     "output_type": "stream",
     "text": [
      "Epoch 15/100, Loss: 0.2997\n"
     ]
    },
    {
     "name": "stderr",
     "output_type": "stream",
     "text": [
      "100%|██████████| 20/20 [00:01<00:00, 18.49it/s]\n"
     ]
    },
    {
     "name": "stdout",
     "output_type": "stream",
     "text": [
      "Epoch 16/100, Loss: 0.2685\n"
     ]
    },
    {
     "name": "stderr",
     "output_type": "stream",
     "text": [
      "100%|██████████| 20/20 [00:01<00:00, 17.92it/s]\n"
     ]
    },
    {
     "name": "stdout",
     "output_type": "stream",
     "text": [
      "Epoch 17/100, Loss: 0.3337\n"
     ]
    },
    {
     "name": "stderr",
     "output_type": "stream",
     "text": [
      "100%|██████████| 20/20 [00:01<00:00, 19.01it/s]\n"
     ]
    },
    {
     "name": "stdout",
     "output_type": "stream",
     "text": [
      "Epoch 18/100, Loss: 0.3146\n"
     ]
    },
    {
     "name": "stderr",
     "output_type": "stream",
     "text": [
      "100%|██████████| 20/20 [00:01<00:00, 18.28it/s]\n"
     ]
    },
    {
     "name": "stdout",
     "output_type": "stream",
     "text": [
      "Epoch 19/100, Loss: 0.2661\n"
     ]
    },
    {
     "name": "stderr",
     "output_type": "stream",
     "text": [
      "100%|██████████| 20/20 [00:01<00:00, 18.34it/s]\n"
     ]
    },
    {
     "name": "stdout",
     "output_type": "stream",
     "text": [
      "Epoch 20/100, Loss: 0.2748\n"
     ]
    },
    {
     "name": "stderr",
     "output_type": "stream",
     "text": [
      "100%|██████████| 20/20 [00:01<00:00, 18.43it/s]\n"
     ]
    },
    {
     "name": "stdout",
     "output_type": "stream",
     "text": [
      "Epoch 21/100, Loss: 0.2832\n"
     ]
    },
    {
     "name": "stderr",
     "output_type": "stream",
     "text": [
      "100%|██████████| 20/20 [00:01<00:00, 17.30it/s]\n"
     ]
    },
    {
     "name": "stdout",
     "output_type": "stream",
     "text": [
      "Epoch 22/100, Loss: 0.2390\n"
     ]
    },
    {
     "name": "stderr",
     "output_type": "stream",
     "text": [
      "100%|██████████| 20/20 [00:01<00:00, 18.36it/s]\n"
     ]
    },
    {
     "name": "stdout",
     "output_type": "stream",
     "text": [
      "Epoch 23/100, Loss: 0.3470\n"
     ]
    },
    {
     "name": "stderr",
     "output_type": "stream",
     "text": [
      "100%|██████████| 20/20 [00:01<00:00, 18.42it/s]\n"
     ]
    },
    {
     "name": "stdout",
     "output_type": "stream",
     "text": [
      "Epoch 24/100, Loss: 0.3124\n"
     ]
    },
    {
     "name": "stderr",
     "output_type": "stream",
     "text": [
      "100%|██████████| 20/20 [00:01<00:00, 17.79it/s]\n"
     ]
    },
    {
     "name": "stdout",
     "output_type": "stream",
     "text": [
      "Epoch 25/100, Loss: 0.2860\n"
     ]
    },
    {
     "name": "stderr",
     "output_type": "stream",
     "text": [
      "100%|██████████| 20/20 [00:01<00:00, 18.35it/s]\n"
     ]
    },
    {
     "name": "stdout",
     "output_type": "stream",
     "text": [
      "Epoch 26/100, Loss: 0.2882\n"
     ]
    },
    {
     "name": "stderr",
     "output_type": "stream",
     "text": [
      "100%|██████████| 20/20 [00:01<00:00, 18.32it/s]\n"
     ]
    },
    {
     "name": "stdout",
     "output_type": "stream",
     "text": [
      "Epoch 27/100, Loss: 0.2609\n"
     ]
    },
    {
     "name": "stderr",
     "output_type": "stream",
     "text": [
      "100%|██████████| 20/20 [00:01<00:00, 18.43it/s]\n"
     ]
    },
    {
     "name": "stdout",
     "output_type": "stream",
     "text": [
      "Epoch 28/100, Loss: 0.2577\n"
     ]
    },
    {
     "name": "stderr",
     "output_type": "stream",
     "text": [
      "100%|██████████| 20/20 [00:01<00:00, 18.39it/s]\n"
     ]
    },
    {
     "name": "stdout",
     "output_type": "stream",
     "text": [
      "Epoch 29/100, Loss: 0.3218\n"
     ]
    },
    {
     "ename": "KeyboardInterrupt",
     "evalue": "",
     "output_type": "error",
     "traceback": [
      "\u001b[0;31m---------------------------------------------------------------------------\u001b[0m",
      "\u001b[0;31mKeyboardInterrupt\u001b[0m                         Traceback (most recent call last)",
      "Cell \u001b[0;32mIn[13], line 24\u001b[0m\n\u001b[1;32m     22\u001b[0m scheduler\u001b[38;5;241m.\u001b[39mstep(avg_loss)\n\u001b[1;32m     23\u001b[0m \u001b[38;5;28mprint\u001b[39m(\u001b[38;5;124mf\u001b[39m\u001b[38;5;124m'\u001b[39m\u001b[38;5;124mEpoch \u001b[39m\u001b[38;5;132;01m{\u001b[39;00mepoch\u001b[38;5;241m+\u001b[39m\u001b[38;5;241m1\u001b[39m\u001b[38;5;132;01m}\u001b[39;00m\u001b[38;5;124m/\u001b[39m\u001b[38;5;132;01m{\u001b[39;00mepochs\u001b[38;5;132;01m}\u001b[39;00m\u001b[38;5;124m, Loss: \u001b[39m\u001b[38;5;132;01m{\u001b[39;00mavg_loss\u001b[38;5;132;01m:\u001b[39;00m\u001b[38;5;124m.4f\u001b[39m\u001b[38;5;132;01m}\u001b[39;00m\u001b[38;5;124m'\u001b[39m)\n\u001b[0;32m---> 24\u001b[0m \u001b[43mdataset\u001b[49m\u001b[38;5;241;43m.\u001b[39;49m\u001b[43mreshuflle\u001b[49m\u001b[43m(\u001b[49m\u001b[43m)\u001b[49m\n",
      "Cell \u001b[0;32mIn[7], line 50\u001b[0m, in \u001b[0;36mSeqDataset.reshuflle\u001b[0;34m(self)\u001b[0m\n\u001b[1;32m     49\u001b[0m \u001b[38;5;28;01mdef\u001b[39;00m \u001b[38;5;21mreshuflle\u001b[39m(\u001b[38;5;28mself\u001b[39m):\n\u001b[0;32m---> 50\u001b[0m     \u001b[38;5;28;43mself\u001b[39;49m\u001b[38;5;241;43m.\u001b[39;49m\u001b[43m__shuffle__\u001b[49m\u001b[43m(\u001b[49m\u001b[43m)\u001b[49m\n",
      "Cell \u001b[0;32mIn[7], line 37\u001b[0m, in \u001b[0;36mSeqDataset.__shuffle__\u001b[0;34m(self)\u001b[0m\n\u001b[1;32m     35\u001b[0m     \u001b[38;5;28mself\u001b[39m\u001b[38;5;241m.\u001b[39mseqList_x\u001b[38;5;241m.\u001b[39mappend(x)\n\u001b[1;32m     36\u001b[0m     \u001b[38;5;28mself\u001b[39m\u001b[38;5;241m.\u001b[39mseqList_y\u001b[38;5;241m.\u001b[39mappend(y)\n\u001b[0;32m---> 37\u001b[0m \u001b[38;5;28mself\u001b[39m\u001b[38;5;241m.\u001b[39mseqList_x \u001b[38;5;241m=\u001b[39m \u001b[43mtorch\u001b[49m\u001b[38;5;241;43m.\u001b[39;49m\u001b[43mtensor\u001b[49m\u001b[43m(\u001b[49m\u001b[38;5;28;43mself\u001b[39;49m\u001b[38;5;241;43m.\u001b[39;49m\u001b[43mseqList_x\u001b[49m\u001b[43m,\u001b[49m\u001b[43m \u001b[49m\u001b[43mdtype\u001b[49m\u001b[38;5;241;43m=\u001b[39;49m\u001b[43mtorch\u001b[49m\u001b[38;5;241;43m.\u001b[39;49m\u001b[43mfloat32\u001b[49m\u001b[43m)\u001b[49m\n",
      "\u001b[0;31mKeyboardInterrupt\u001b[0m: "
     ]
    }
   ],
   "source": [
    "# 4. 训练函数\n",
    "epochs=100\n",
    "device=\"cuda:0\"\n",
    "criterion = nn.MSELoss()\n",
    "optimizer = torch.optim.Adam(model.parameters(), lr=0.001, weight_decay=0.0001)\n",
    "scheduler = torch.optim.lr_scheduler.ReduceLROnPlateau(optimizer, patience=5)\n",
    "\n",
    "model.train()\n",
    "for epoch in range(epochs):\n",
    "    total_loss = 0\n",
    "    loop = tqdm(dataloader, total=len(dataloader))\n",
    "    for X_batch, y_batch in loop:\n",
    "        optimizer.zero_grad()\n",
    "        outputs = model(X_batch.to(device))\n",
    "        loss = criterion(outputs, y_batch.to(device))\n",
    "        loss.backward()\n",
    "        nn.utils.clip_grad_norm_(model.parameters(), 1.0)  # 梯度裁剪\n",
    "        optimizer.step()\n",
    "        total_loss += loss.item()\n",
    "    \n",
    "    avg_loss = total_loss / len(dataloader)\n",
    "    scheduler.step(avg_loss)\n",
    "    print(f'Epoch {epoch+1}/{epochs}, Loss: {avg_loss:.4f}')\n",
    "    dataset.reshuflle()\n"
   ]
  },
  {
   "cell_type": "code",
   "execution_count": null,
   "metadata": {},
   "outputs": [
    {
     "data": {
      "text/plain": [
       "tensor([[[163.8413, 151.3713, 178.5954],\n",
       "         [146.1174, 154.1814, 203.3187],\n",
       "         [138.1286, 134.5786, 161.5634],\n",
       "         ...,\n",
       "         [140.5328, 150.9165, 171.8488],\n",
       "         [141.1443, 156.0444, 172.7906],\n",
       "         [142.2856, 144.6543, 167.3370]],\n",
       "\n",
       "        [[163.8372, 151.3676, 178.5910],\n",
       "         [146.1138, 154.1775, 203.3136],\n",
       "         [138.1251, 134.5752, 161.5594],\n",
       "         ...,\n",
       "         [140.5293, 150.9128, 171.8445],\n",
       "         [141.1408, 156.0406, 172.7863],\n",
       "         [142.2820, 144.6507, 167.3329]],\n",
       "\n",
       "        [[163.8411, 151.3711, 178.5952],\n",
       "         [146.1172, 154.1811, 203.3184],\n",
       "         [138.1284, 134.5784, 161.5632],\n",
       "         ...,\n",
       "         [140.5326, 150.9163, 171.8485],\n",
       "         [141.1441, 156.0442, 172.7904],\n",
       "         [142.2854, 144.6541, 167.3368]],\n",
       "\n",
       "        [[163.8412, 151.3713, 178.5953],\n",
       "         [146.1174, 154.1813, 203.3186],\n",
       "         [138.1285, 134.5785, 161.5634],\n",
       "         ...,\n",
       "         [140.5327, 150.9165, 171.8487],\n",
       "         [141.1442, 156.0444, 172.7905],\n",
       "         [142.2855, 144.6542, 167.3370]]], device='cuda:0',\n",
       "       grad_fn=<ViewBackward0>)"
      ]
     },
     "execution_count": 16,
     "metadata": {},
     "output_type": "execute_result"
    }
   ],
   "source": [
    "outputs"
   ]
  },
  {
   "cell_type": "markdown",
   "metadata": {},
   "source": [
    "# 预测与可视化"
   ]
  },
  {
   "cell_type": "code",
   "execution_count": null,
   "metadata": {},
   "outputs": [],
   "source": [
    "import matplotlib.pyplot as plt"
   ]
  },
  {
   "cell_type": "code",
   "execution_count": null,
   "metadata": {},
   "outputs": [],
   "source": [
    "dataset.reshuflle()\n",
    "test_idx = np.random.choice(range(len(dataset)), 1, replace=False)\n",
    "test_data = dataset.__getitem__(test_idx[0])"
   ]
  },
  {
   "cell_type": "code",
   "execution_count": null,
   "metadata": {
    "trusted": true
   },
   "outputs": [
    {
     "data": {
      "image/png": "[encoded data removed]",
      "text/plain": [
       "<Figure size 1500x800 with 1 Axes>"
      ]
     },
     "metadata": {},
     "output_type": "display_data"
    }
   ],
   "source": [
    "model.eval()\n",
    "\n",
    "with torch.no_grad():\n",
    "    # 取最后time_steps作为输入\n",
    "    inputs = test_data[0].unsqueeze(0)\n",
    "    # inputs = scaler.transform(inputs)\n",
    "    # inputs = torch.tensor(inputs, dtype=torch.float32).unsqueeze(0)\n",
    "    \n",
    "    prediction = model(inputs.to(device)).squeeze(0).cpu().numpy()\n",
    "    # prediction = scaler.inverse_transform(prediction.reshape(-1, 3))\n",
    "\n"
   ]
  }
 ],
 "metadata": {
  "kaggle": {
   "accelerator": "none",
   "dataSources": [
    {
     "datasetId": 6970771,
     "sourceId": 11169977,
     "sourceType": "datasetVersion"
    }
   ],
   "dockerImageVersionId": 30918,
   "isGpuEnabled": false,
   "isInternetEnabled": true,
   "language": "python",
   "sourceType": "notebook"
  },
  "kernelspec": {
   "display_name": "bnseq",
   "language": "python",
   "name": "python3"
  },
  "language_info": {
   "codemirror_mode": {
    "name": "ipython",
    "version": 3
   },
   "file_extension": ".py",
   "mimetype": "text/x-python",
   "name": "python",
   "nbconvert_exporter": "python",
   "pygments_lexer": "ipython3",
   "version": "3.10.16"
  }
 },
 "nbformat": 4,
 "nbformat_minor": 4
}
