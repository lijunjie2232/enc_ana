{
 "cells": [
  {
   "cell_type": "code",
   "execution_count": 5,
   "metadata": {},
   "outputs": [],
   "source": [
    "import numpy as np\n",
    "import pandas as pd\n",
    "from pathlib import Path"
   ]
  },
  {
   "cell_type": "code",
   "execution_count": 6,
   "metadata": {},
   "outputs": [],
   "source": [
    "DATA_ROOT = Path(\"dataset\")"
   ]
  },
  {
   "cell_type": "markdown",
   "metadata": {},
   "source": [
    "# bitcoin-historical-data test"
   ]
  },
  {
   "cell_type": "code",
   "execution_count": 7,
   "metadata": {},
   "outputs": [],
   "source": [
    "DS_DIR = DATA_ROOT / \"bitcoin-historical-data\"\n",
    "df = pd.read_csv(DS_DIR / \"btcusd_1-min_data.csv\")"
   ]
  },
  {
   "cell_type": "code",
   "execution_count": 8,
   "metadata": {},
   "outputs": [
    {
     "data": {
      "text/html": [
       "<div>\n",
       "<style scoped>\n",
       "    .dataframe tbody tr th:only-of-type {\n",
       "        vertical-align: middle;\n",
       "    }\n",
       "\n",
       "    .dataframe tbody tr th {\n",
       "        vertical-align: top;\n",
       "    }\n",
       "\n",
       "    .dataframe thead th {\n",
       "        text-align: right;\n",
       "    }\n",
       "</style>\n",
       "<table border=\"1\" class=\"dataframe\">\n",
       "  <thead>\n",
       "    <tr style=\"text-align: right;\">\n",
       "      <th></th>\n",
       "      <th>Timestamp</th>\n",
       "      <th>Open</th>\n",
       "      <th>High</th>\n",
       "      <th>Low</th>\n",
       "      <th>Close</th>\n",
       "      <th>Volume</th>\n",
       "    </tr>\n",
       "  </thead>\n",
       "  <tbody>\n",
       "    <tr>\n",
       "      <th>0</th>\n",
       "      <td>1.325412e+09</td>\n",
       "      <td>4.58</td>\n",
       "      <td>4.58</td>\n",
       "      <td>4.58</td>\n",
       "      <td>4.58</td>\n",
       "      <td>0.0</td>\n",
       "    </tr>\n",
       "    <tr>\n",
       "      <th>1</th>\n",
       "      <td>1.325412e+09</td>\n",
       "      <td>4.58</td>\n",
       "      <td>4.58</td>\n",
       "      <td>4.58</td>\n",
       "      <td>4.58</td>\n",
       "      <td>0.0</td>\n",
       "    </tr>\n",
       "    <tr>\n",
       "      <th>2</th>\n",
       "      <td>1.325412e+09</td>\n",
       "      <td>4.58</td>\n",
       "      <td>4.58</td>\n",
       "      <td>4.58</td>\n",
       "      <td>4.58</td>\n",
       "      <td>0.0</td>\n",
       "    </tr>\n",
       "    <tr>\n",
       "      <th>3</th>\n",
       "      <td>1.325412e+09</td>\n",
       "      <td>4.58</td>\n",
       "      <td>4.58</td>\n",
       "      <td>4.58</td>\n",
       "      <td>4.58</td>\n",
       "      <td>0.0</td>\n",
       "    </tr>\n",
       "    <tr>\n",
       "      <th>4</th>\n",
       "      <td>1.325412e+09</td>\n",
       "      <td>4.58</td>\n",
       "      <td>4.58</td>\n",
       "      <td>4.58</td>\n",
       "      <td>4.58</td>\n",
       "      <td>0.0</td>\n",
       "    </tr>\n",
       "  </tbody>\n",
       "</table>\n",
       "</div>"
      ],
      "text/plain": [
       "      Timestamp  Open  High   Low  Close  Volume\n",
       "0  1.325412e+09  4.58  4.58  4.58   4.58     0.0\n",
       "1  1.325412e+09  4.58  4.58  4.58   4.58     0.0\n",
       "2  1.325412e+09  4.58  4.58  4.58   4.58     0.0\n",
       "3  1.325412e+09  4.58  4.58  4.58   4.58     0.0\n",
       "4  1.325412e+09  4.58  4.58  4.58   4.58     0.0"
      ]
     },
     "execution_count": 8,
     "metadata": {},
     "output_type": "execute_result"
    }
   ],
   "source": [
    "df.head(5)"
   ]
  },
  {
   "cell_type": "code",
   "execution_count": 9,
   "metadata": {},
   "outputs": [
    {
     "data": {
      "text/html": [
       "<div>\n",
       "<style scoped>\n",
       "    .dataframe tbody tr th:only-of-type {\n",
       "        vertical-align: middle;\n",
       "    }\n",
       "\n",
       "    .dataframe tbody tr th {\n",
       "        vertical-align: top;\n",
       "    }\n",
       "\n",
       "    .dataframe thead th {\n",
       "        text-align: right;\n",
       "    }\n",
       "</style>\n",
       "<table border=\"1\" class=\"dataframe\">\n",
       "  <thead>\n",
       "    <tr style=\"text-align: right;\">\n",
       "      <th></th>\n",
       "      <th>Timestamp</th>\n",
       "      <th>Open</th>\n",
       "      <th>High</th>\n",
       "      <th>Low</th>\n",
       "      <th>Close</th>\n",
       "      <th>Volume</th>\n",
       "    </tr>\n",
       "  </thead>\n",
       "  <tbody>\n",
       "    <tr>\n",
       "      <th>6750271</th>\n",
       "      <td>1.737936e+09</td>\n",
       "      <td>102885.0</td>\n",
       "      <td>102885.0</td>\n",
       "      <td>102761.0</td>\n",
       "      <td>102761.0</td>\n",
       "      <td>0.273798</td>\n",
       "    </tr>\n",
       "    <tr>\n",
       "      <th>6750272</th>\n",
       "      <td>1.737936e+09</td>\n",
       "      <td>102752.0</td>\n",
       "      <td>102755.0</td>\n",
       "      <td>102555.0</td>\n",
       "      <td>102565.0</td>\n",
       "      <td>8.810395</td>\n",
       "    </tr>\n",
       "    <tr>\n",
       "      <th>6750273</th>\n",
       "      <td>1.737936e+09</td>\n",
       "      <td>102550.0</td>\n",
       "      <td>102587.0</td>\n",
       "      <td>102522.0</td>\n",
       "      <td>102587.0</td>\n",
       "      <td>1.116253</td>\n",
       "    </tr>\n",
       "    <tr>\n",
       "      <th>6750274</th>\n",
       "      <td>1.737936e+09</td>\n",
       "      <td>102581.0</td>\n",
       "      <td>102581.0</td>\n",
       "      <td>102450.0</td>\n",
       "      <td>102518.0</td>\n",
       "      <td>6.849513</td>\n",
       "    </tr>\n",
       "    <tr>\n",
       "      <th>6750275</th>\n",
       "      <td>1.737936e+09</td>\n",
       "      <td>102518.0</td>\n",
       "      <td>102559.0</td>\n",
       "      <td>102506.0</td>\n",
       "      <td>102558.0</td>\n",
       "      <td>0.771165</td>\n",
       "    </tr>\n",
       "    <tr>\n",
       "      <th>6750276</th>\n",
       "      <td>1.737936e+09</td>\n",
       "      <td>102628.0</td>\n",
       "      <td>102669.0</td>\n",
       "      <td>102608.0</td>\n",
       "      <td>102611.0</td>\n",
       "      <td>0.086742</td>\n",
       "    </tr>\n",
       "    <tr>\n",
       "      <th>6750277</th>\n",
       "      <td>1.737936e+09</td>\n",
       "      <td>102659.0</td>\n",
       "      <td>102712.0</td>\n",
       "      <td>102657.0</td>\n",
       "      <td>102712.0</td>\n",
       "      <td>0.488757</td>\n",
       "    </tr>\n",
       "    <tr>\n",
       "      <th>6750278</th>\n",
       "      <td>1.737936e+09</td>\n",
       "      <td>102631.0</td>\n",
       "      <td>102631.0</td>\n",
       "      <td>102573.0</td>\n",
       "      <td>102573.0</td>\n",
       "      <td>0.126719</td>\n",
       "    </tr>\n",
       "    <tr>\n",
       "      <th>6750279</th>\n",
       "      <td>1.737936e+09</td>\n",
       "      <td>102573.0</td>\n",
       "      <td>102604.0</td>\n",
       "      <td>102507.0</td>\n",
       "      <td>102514.0</td>\n",
       "      <td>0.474495</td>\n",
       "    </tr>\n",
       "    <tr>\n",
       "      <th>6750280</th>\n",
       "      <td>NaN</td>\n",
       "      <td>57854.0</td>\n",
       "      <td>57864.0</td>\n",
       "      <td>57835.0</td>\n",
       "      <td>57835.0</td>\n",
       "      <td>1.353466</td>\n",
       "    </tr>\n",
       "  </tbody>\n",
       "</table>\n",
       "</div>"
      ],
      "text/plain": [
       "            Timestamp      Open      High       Low     Close    Volume\n",
       "6750271  1.737936e+09  102885.0  102885.0  102761.0  102761.0  0.273798\n",
       "6750272  1.737936e+09  102752.0  102755.0  102555.0  102565.0  8.810395\n",
       "6750273  1.737936e+09  102550.0  102587.0  102522.0  102587.0  1.116253\n",
       "6750274  1.737936e+09  102581.0  102581.0  102450.0  102518.0  6.849513\n",
       "6750275  1.737936e+09  102518.0  102559.0  102506.0  102558.0  0.771165\n",
       "6750276  1.737936e+09  102628.0  102669.0  102608.0  102611.0  0.086742\n",
       "6750277  1.737936e+09  102659.0  102712.0  102657.0  102712.0  0.488757\n",
       "6750278  1.737936e+09  102631.0  102631.0  102573.0  102573.0  0.126719\n",
       "6750279  1.737936e+09  102573.0  102604.0  102507.0  102514.0  0.474495\n",
       "6750280           NaN   57854.0   57864.0   57835.0   57835.0  1.353466"
      ]
     },
     "execution_count": 9,
     "metadata": {},
     "output_type": "execute_result"
    }
   ],
   "source": [
    "df.iloc[-10:]"
   ]
  },
  {
   "cell_type": "code",
   "execution_count": 10,
   "metadata": {},
   "outputs": [
    {
     "data": {
      "text/plain": [
       "Timestamp             NaN\n",
       "Open         57854.000000\n",
       "High         57864.000000\n",
       "Low          57835.000000\n",
       "Close        57835.000000\n",
       "Volume           1.353466\n",
       "Name: 6750280, dtype: float64"
      ]
     },
     "execution_count": 10,
     "metadata": {},
     "output_type": "execute_result"
    }
   ],
   "source": [
    "df.iloc[-1]"
   ]
  }
 ],
 "metadata": {
  "kernelspec": {
   "display_name": "manba",
   "language": "python",
   "name": "python3"
  },
  "language_info": {
   "codemirror_mode": {
    "name": "ipython",
    "version": 3
   },
   "file_extension": ".py",
   "mimetype": "text/x-python",
   "name": "python",
   "nbconvert_exporter": "python",
   "pygments_lexer": "ipython3",
   "version": "3.10.16"
  }
 },
 "nbformat": 4,
 "nbformat_minor": 2
}
